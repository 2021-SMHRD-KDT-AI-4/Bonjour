{
 "cells": [
  {
   "cell_type": "code",
   "execution_count": 1,
   "metadata": {},
   "outputs": [],
   "source": [
    "import selenium\n",
    "from selenium import webdriver\n",
    "from selenium.webdriver.common.keys import Keys"
   ]
  },
  {
   "cell_type": "code",
   "execution_count": 2,
   "metadata": {
    "scrolled": false
   },
   "outputs": [],
   "source": [
    "driver = webdriver.Chrome(\"C:/Users/smhrd/2차프로젝트/chromedriver.exe\")"
   ]
  },
  {
   "cell_type": "code",
   "execution_count": 3,
   "metadata": {},
   "outputs": [
    {
     "data": {
      "text/plain": [
       "'C:\\\\Users\\\\smhrd\\\\2차프로젝트'"
      ]
     },
     "execution_count": 3,
     "metadata": {},
     "output_type": "execute_result"
    }
   ],
   "source": [
    "import os\n",
    "os.getcwd()"
   ]
  },
  {
   "cell_type": "code",
   "execution_count": 4,
   "metadata": {},
   "outputs": [
    {
     "name": "stdout",
     "output_type": "stream",
     "text": [
      "Requirement already satisfied: selenium in c:\\users\\smhrd\\anaconda3\\lib\\site-packages (3.141.0)\n",
      "Requirement already satisfied: urllib3 in c:\\users\\smhrd\\anaconda3\\lib\\site-packages (from selenium) (1.25.11)\n",
      "Note: you may need to restart the kernel to use updated packages.\n"
     ]
    },
    {
     "name": "stderr",
     "output_type": "stream",
     "text": [
      "WARNING: Ignoring invalid distribution -pype1 (c:\\users\\smhrd\\anaconda3\\lib\\site-packages)\n",
      "WARNING: Ignoring invalid distribution -onlpy (c:\\users\\smhrd\\anaconda3\\lib\\site-packages)\n",
      "WARNING: Ignoring invalid distribution -pype1 (c:\\users\\smhrd\\anaconda3\\lib\\site-packages)\n",
      "WARNING: Ignoring invalid distribution -onlpy (c:\\users\\smhrd\\anaconda3\\lib\\site-packages)\n",
      "WARNING: Ignoring invalid distribution -pype1 (c:\\users\\smhrd\\anaconda3\\lib\\site-packages)\n",
      "WARNING: Ignoring invalid distribution -onlpy (c:\\users\\smhrd\\anaconda3\\lib\\site-packages)\n",
      "WARNING: Ignoring invalid distribution -pype1 (c:\\users\\smhrd\\anaconda3\\lib\\site-packages)\n",
      "WARNING: Ignoring invalid distribution -onlpy (c:\\users\\smhrd\\anaconda3\\lib\\site-packages)\n",
      "WARNING: Ignoring invalid distribution -pype1 (c:\\users\\smhrd\\anaconda3\\lib\\site-packages)\n",
      "WARNING: Ignoring invalid distribution -onlpy (c:\\users\\smhrd\\anaconda3\\lib\\site-packages)\n"
     ]
    }
   ],
   "source": [
    "pip install selenium"
   ]
  },
  {
   "cell_type": "code",
   "execution_count": 5,
   "metadata": {},
   "outputs": [],
   "source": [
    "from selenium import webdriver as wb # 브라우져를 조작하는 도구\n",
    "from selenium.webdriver.common.keys import Keys # 키 입력을 도와주는 도구(키보드)\n",
    "from bs4 import BeautifulSoup as bs # 문서를 파싱해서 선택자 활용을 도와주는 도구\n",
    "from tqdm import tqdm # 반복문 돌렸을때 진행률 확인 시각화도구\n",
    "from urllib.request import urlretrieve # 이미지 다운로드를 도와주는 도구\n",
    "import time # 시간제어 도구\n",
    "import os # 폴더 생성, 삭제, 이동, \n",
    "import pandas as pd\n",
    "import numpy as np"
   ]
  },
  {
   "cell_type": "code",
   "execution_count": 6,
   "metadata": {},
   "outputs": [],
   "source": [
    "url = 'https://www.kcar.com/car/search/car_search_list.do'\n",
    "driver = wb.Chrome() # 크롬 브라우져 생성\n",
    "driver.get(url)\n",
    "\n",
    "time.sleep(3)\n",
    "\n",
    "btn = driver.find_element_by_css_selector('#kcarSearchList > li > div.car_cont_box > a')\n",
    "\n",
    "# btn.click() # 클릭 실행"
   ]
  },
  {
   "cell_type": "code",
   "execution_count": 7,
   "metadata": {},
   "outputs": [],
   "source": [
    "# 기아 -> k3 페이지 이동\n",
    "driver.find_elements_by_css_selector('#false > label')[2].click()\n",
    "time.sleep(3)\n",
    "driver.find_elements_by_css_selector('#false > label')[1].click()"
   ]
  },
  {
   "cell_type": "code",
   "execution_count": 8,
   "metadata": {},
   "outputs": [],
   "source": [
    "car_list = bs(driver.page_source, 'html.parser')"
   ]
  },
  {
   "cell_type": "code",
   "execution_count": 9,
   "metadata": {},
   "outputs": [
    {
     "ename": "ValueError",
     "evalue": "invalid literal for int() with base 10: '2,314'",
     "output_type": "error",
     "traceback": [
      "\u001b[1;31m---------------------------------------------------------------------------\u001b[0m",
      "\u001b[1;31mValueError\u001b[0m                                Traceback (most recent call last)",
      "\u001b[1;32m<ipython-input-9-e23627cb1fad>\u001b[0m in \u001b[0;36m<module>\u001b[1;34m\u001b[0m\n\u001b[0;32m      1\u001b[0m \u001b[1;31m# 페이지 수 계산\u001b[0m\u001b[1;33m\u001b[0m\u001b[1;33m\u001b[0m\u001b[1;33m\u001b[0m\u001b[0m\n\u001b[0;32m      2\u001b[0m \u001b[0mcar_counts\u001b[0m \u001b[1;33m=\u001b[0m \u001b[0mcar_list\u001b[0m\u001b[1;33m.\u001b[0m\u001b[0mselect\u001b[0m\u001b[1;33m(\u001b[0m\u001b[1;34m'#totalCount > strong'\u001b[0m\u001b[1;33m)\u001b[0m\u001b[1;33m\u001b[0m\u001b[1;33m\u001b[0m\u001b[0m\n\u001b[1;32m----> 3\u001b[1;33m \u001b[0mcar_num\u001b[0m \u001b[1;33m=\u001b[0m \u001b[0mint\u001b[0m\u001b[1;33m(\u001b[0m\u001b[0mcar_counts\u001b[0m\u001b[1;33m[\u001b[0m\u001b[1;36m0\u001b[0m\u001b[1;33m]\u001b[0m\u001b[1;33m.\u001b[0m\u001b[0mtext\u001b[0m\u001b[1;33m)\u001b[0m\u001b[1;33m\u001b[0m\u001b[1;33m\u001b[0m\u001b[0m\n\u001b[0m\u001b[0;32m      4\u001b[0m \u001b[0mpages\u001b[0m\u001b[1;33m=\u001b[0m\u001b[0mcar_num\u001b[0m\u001b[1;33m//\u001b[0m\u001b[1;36m15\u001b[0m\u001b[1;33m+\u001b[0m\u001b[1;36m1\u001b[0m\u001b[1;33m\u001b[0m\u001b[1;33m\u001b[0m\u001b[0m\n",
      "\u001b[1;31mValueError\u001b[0m: invalid literal for int() with base 10: '2,314'"
     ]
    }
   ],
   "source": [
    "# 페이지 수 계산\n",
    "car_counts = car_list.select('#totalCount > strong')\n",
    "car_num = int(car_counts[0].text)\n",
    "pages=car_num//15+1"
   ]
  },
  {
   "cell_type": "code",
   "execution_count": null,
   "metadata": {
    "scrolled": true
   },
   "outputs": [],
   "source": [
    "# K3 k5 k7 k9 레이 모닝 스포티지 쏘렌토 카니발\n",
    "data_list = []\n",
    "data_list2 = []\n",
    "data_list3 = []\n",
    "total=[1,2,3,5,9,11,20,22,25]\n",
    "total_num = 0\n",
    "# 기아 -> k3 페이지 이동\n",
    "for tot in total :\n",
    "    \n",
    "    driver.find_elements_by_css_selector('#false > label')[2].click()\n",
    "    time.sleep(5)\n",
    "    driver.find_elements_by_css_selector('#false > label')[tot].click()\n",
    "    time.sleep(1)\n",
    "    car_list = bs(driver.page_source, 'html.parser')\n",
    "    car_counts = car_list.select('#totalCount > strong')\n",
    "    car_num = int(car_counts[0].text)\n",
    "    total_num += car_num\n",
    "    pages=car_num//15+1\n",
    "    time.sleep(1)\n",
    "    for i in range(1,pages+1):\n",
    "        time.sleep(1)\n",
    "\n",
    "        info = car_list.select('li > div.car_cont_box > a')\n",
    "        car_data = car_list.select('li > div.car_cont_box > div.car_desc > span')\n",
    "        car_price = car_list.select('li > div.car_cont_box > div.car_cash > span')\n",
    "\n",
    "        if pages != i :\n",
    "            for d in range(15):\n",
    "                data_list.append(info[d].text)\n",
    "            for e in range(15*5):\n",
    "                if (e%5==0) :\n",
    "                    if len(car_data[e].text)>9 :\n",
    "                        data_list2.append(car_data[e].text[:-6])\n",
    "                    else : \n",
    "                        data_list2.append(car_data[e].text)\n",
    "                else :\n",
    "                    data_list2.append(car_data[e].text)\n",
    "            for f in range(15):\n",
    "                data_list3.append(int(car_price[f].text[:-2].replace(\",\",\"\")))\n",
    "        else :\n",
    "            for d in range(car_num%15):\n",
    "                data_list.append(info[d].text)\n",
    "            for e in range((car_num%15)*5):\n",
    "                if (e%5==0) :\n",
    "                    if len(car_data[e].text)>9 :\n",
    "                        data_list2.append(car_data[e].text[:-6])\n",
    "                    else : \n",
    "                        data_list2.append(car_data[e].text)\n",
    "                else :\n",
    "                    data_list2.append(car_data[e].text)\n",
    "            for f in range(car_num%15):\n",
    "                data_list3.append(int(car_price[f].text[:-2].replace(\",\",\"\")))\n",
    "\n",
    "\n",
    "\n",
    "        if i%10==0 :\n",
    "            if i != pages :\n",
    "                # 다음페이지로 이동(1->11)\n",
    "                driver.find_element_by_css_selector('.paging_list + button').click()\n",
    "        else :\n",
    "            if i != pages :\n",
    "                driver.find_element_by_css_selector('.paging_list .on ~button').click()\n",
    "\n",
    "\n",
    "    \n",
    "    driver.refresh()\n",
    "    time.sleep(5)\n",
    "  "
   ]
  },
  {
   "cell_type": "code",
   "execution_count": null,
   "metadata": {},
   "outputs": [],
   "source": [
    "data_list2=np.array(data_list2).reshape(total_num,5)  "
   ]
  },
  {
   "cell_type": "code",
   "execution_count": null,
   "metadata": {
    "scrolled": true
   },
   "outputs": [],
   "source": [
    "data1 = pd.DataFrame(data_list)\n",
    "data2 = pd.DataFrame(data_list2)\n",
    "data3 = pd.DataFrame(data_list3)\n",
    "kcar = pd.concat([data1,data2,data3],axis=1)"
   ]
  },
  {
   "cell_type": "code",
   "execution_count": null,
   "metadata": {},
   "outputs": [],
   "source": [
    "kcar.to_csv('kcar.csv', encoding='EUC-KR', index=False)"
   ]
  },
  {
   "cell_type": "markdown",
   "metadata": {},
   "source": [
    "### K5"
   ]
  },
  {
   "cell_type": "code",
   "execution_count": null,
   "metadata": {},
   "outputs": [],
   "source": [
    "url = 'https://www.kcar.com/car/search/car_search_list.do'\n",
    "driver = wb.Chrome() # 크롬 브라우져 생성\n",
    "driver.get(url)\n",
    "\n",
    "time.sleep(3)\n",
    "\n",
    "btn = driver.find_element_by_css_selector('#kcarSearchList > li > div.car_cont_box > a')\n",
    "\n",
    "# btn.click() # 클릭 실행"
   ]
  },
  {
   "cell_type": "code",
   "execution_count": null,
   "metadata": {},
   "outputs": [],
   "source": [
    "# 기아 -> k5 페이지 이동\n",
    "driver.find_elements_by_css_selector('#false > label')[2].click()\n",
    "time.sleep(3)\n",
    "driver.find_elements_by_css_selector('#false > label')[2].click()"
   ]
  },
  {
   "cell_type": "code",
   "execution_count": null,
   "metadata": {},
   "outputs": [],
   "source": [
    "car_list = bs(driver.page_source, 'html.parser')"
   ]
  },
  {
   "cell_type": "code",
   "execution_count": null,
   "metadata": {},
   "outputs": [],
   "source": [
    "# 페이지 수 계산\n",
    "car_counts = car_list.select('#totalCount > strong')\n",
    "car_num = int(car_counts[0].text)\n",
    "pages=car_num//15+1"
   ]
  },
  {
   "cell_type": "code",
   "execution_count": null,
   "metadata": {},
   "outputs": [],
   "source": [
    "# 페이지 이동(1->2)\n",
    "page_bar = driver.find_element_by_css_selector('.paging_list .on ~button')\n",
    "page_bar.click()"
   ]
  },
  {
   "cell_type": "code",
   "execution_count": null,
   "metadata": {},
   "outputs": [],
   "source": []
  },
  {
   "cell_type": "code",
   "execution_count": null,
   "metadata": {},
   "outputs": [],
   "source": []
  },
  {
   "cell_type": "code",
   "execution_count": null,
   "metadata": {},
   "outputs": [],
   "source": []
  },
  {
   "cell_type": "code",
   "execution_count": null,
   "metadata": {},
   "outputs": [],
   "source": []
  },
  {
   "cell_type": "code",
   "execution_count": null,
   "metadata": {},
   "outputs": [],
   "source": []
  },
  {
   "cell_type": "code",
   "execution_count": null,
   "metadata": {},
   "outputs": [],
   "source": []
  },
  {
   "cell_type": "code",
   "execution_count": null,
   "metadata": {},
   "outputs": [],
   "source": []
  },
  {
   "cell_type": "code",
   "execution_count": null,
   "metadata": {},
   "outputs": [],
   "source": []
  },
  {
   "cell_type": "code",
   "execution_count": null,
   "metadata": {},
   "outputs": [],
   "source": []
  },
  {
   "cell_type": "code",
   "execution_count": null,
   "metadata": {},
   "outputs": [],
   "source": []
  },
  {
   "cell_type": "code",
   "execution_count": null,
   "metadata": {},
   "outputs": [],
   "source": []
  },
  {
   "cell_type": "code",
   "execution_count": null,
   "metadata": {},
   "outputs": [],
   "source": []
  },
  {
   "cell_type": "code",
   "execution_count": null,
   "metadata": {},
   "outputs": [],
   "source": []
  },
  {
   "cell_type": "code",
   "execution_count": null,
   "metadata": {},
   "outputs": [],
   "source": []
  },
  {
   "cell_type": "code",
   "execution_count": 123,
   "metadata": {},
   "outputs": [],
   "source": []
  },
  {
   "cell_type": "code",
   "execution_count": null,
   "metadata": {},
   "outputs": [],
   "source": []
  },
  {
   "cell_type": "code",
   "execution_count": null,
   "metadata": {},
   "outputs": [],
   "source": []
  },
  {
   "cell_type": "code",
   "execution_count": null,
   "metadata": {},
   "outputs": [],
   "source": []
  },
  {
   "cell_type": "code",
   "execution_count": null,
   "metadata": {},
   "outputs": [],
   "source": []
  },
  {
   "cell_type": "code",
   "execution_count": null,
   "metadata": {},
   "outputs": [],
   "source": []
  },
  {
   "cell_type": "code",
   "execution_count": null,
   "metadata": {},
   "outputs": [],
   "source": []
  },
  {
   "cell_type": "code",
   "execution_count": null,
   "metadata": {},
   "outputs": [],
   "source": []
  },
  {
   "cell_type": "code",
   "execution_count": null,
   "metadata": {},
   "outputs": [],
   "source": []
  },
  {
   "cell_type": "code",
   "execution_count": null,
   "metadata": {},
   "outputs": [],
   "source": []
  },
  {
   "cell_type": "code",
   "execution_count": null,
   "metadata": {},
   "outputs": [],
   "source": []
  },
  {
   "cell_type": "code",
   "execution_count": null,
   "metadata": {},
   "outputs": [],
   "source": []
  },
  {
   "cell_type": "code",
   "execution_count": null,
   "metadata": {},
   "outputs": [],
   "source": []
  },
  {
   "cell_type": "code",
   "execution_count": null,
   "metadata": {},
   "outputs": [],
   "source": []
  },
  {
   "cell_type": "code",
   "execution_count": null,
   "metadata": {},
   "outputs": [],
   "source": []
  }
 ],
 "metadata": {
  "kernelspec": {
   "display_name": "Python 3",
   "language": "python",
   "name": "python3"
  },
  "language_info": {
   "codemirror_mode": {
    "name": "ipython",
    "version": 3
   },
   "file_extension": ".py",
   "mimetype": "text/x-python",
   "name": "python",
   "nbconvert_exporter": "python",
   "pygments_lexer": "ipython3",
   "version": "3.8.5"
  }
 },
 "nbformat": 4,
 "nbformat_minor": 4
}
