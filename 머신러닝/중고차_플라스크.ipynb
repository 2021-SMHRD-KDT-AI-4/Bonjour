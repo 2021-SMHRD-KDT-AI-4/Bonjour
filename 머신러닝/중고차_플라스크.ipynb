{
 "cells": [
  {
   "cell_type": "code",
   "execution_count": 1,
   "metadata": {},
   "outputs": [],
   "source": [
    "import pandas as pd\n",
    "import numpy as np\n",
    "from flask import Flask\n",
    "import pickle \n",
    "from flask import request,redirect"
   ]
  },
  {
   "cell_type": "code",
   "execution_count": 2,
   "metadata": {},
   "outputs": [],
   "source": [
    "def pasingdata(data_dict):\n",
    "    car_data = []\n",
    "    car_data.append(data_dict[\"brand\"])\n",
    "    car_data.append(data_dict[\"model\"])\n",
    "    car_data.append(data_dict[\"d_model\"])\n",
    "    car_data.append(data_dict[\"grade\"])\n",
    "    car_data.append(data_dict[\"year\"])\n",
    "    return car_data"
   ]
  },
  {
   "cell_type": "code",
   "execution_count": 3,
   "metadata": {},
   "outputs": [],
   "source": [
    "## 받은 데이터를 학습시킬수있게 변환해주는 함수\n",
    "car_col = ['신차가격', '연식', '주행거리', '변속기', '연비', '배기량', '압류', '저당', '전손이력', '용도이력',\n",
    "       '사용자변경', '차체/일반', '엔진/주요', '최고출력', '최대토크', '승차정원', '휠_1', '타이어_수정',\n",
    "       '연료_LPG', '연료_가솔린', '연료_기타', '연료_디젤', '차종_RV', '차종_SUV', '차종_경차',\n",
    "       '차종_대형', '차종_소형', '차종_승합', '차종_준중형', '차종_중형', '차종_트럭', '색상_검정색',\n",
    "       '색상_기타', '색상_은색', '색상_진주색', '색상_회색', '색상_흰색', '제조사_기아', '제조사_르노삼성',\n",
    "       '제조사_쌍용', '제조사_제네시스', '제조사_한국GM', '제조사_현대', '구동방식_4WD', '구동방식_AWD',\n",
    "       '구동방식_FF', '구동방식_FR']\n",
    "\n",
    "def changedata(data_dict):\n",
    "    ## 학습데이터 컬럼수 47 \n",
    "    # 2021 1만km\n",
    "    # 20 2만키로\n",
    "    # 19 4만키로\n",
    "    # 21 - df[\"연식\"] => 1 * 20000\n",
    "    # 연식 16  주행거리 /1000 => 1 2 3 4 5 6\n",
    "    # 차체일반은 3/6 엔진은 5/10 넘으면 만료니까 0으로 줌\n",
    "    # 색깔  흰색', '기타', '진주색', '검정색', '회색', '은색'\n",
    "    # ======\n",
    "    # 연료 채워야됨\n",
    "    # 변속기 기본 오토\n",
    "    # 차종은 일단 더미로하고\n",
    "    \n",
    "    df = pd.DataFrame(np.zeros((1,47)), columns=car_col)\n",
    "    df[\"신차가격\"] = 2228\n",
    "    df[\"연식\"] = int(data_dict['year'])%100\n",
    "    df[\"주행거리\"] = (21 - int(data_dict['year'])%100)*20000\n",
    "    \n",
    "    if data_dict['gear']==\"오토\":\n",
    "        df[\"변속기\"] = 1\n",
    "    else :\n",
    "        df[\"변속기\"] = 0\n",
    "        \n",
    "    df[\"연비\"] = data_dict[\"fe\"]\n",
    "    df[\"배기량\"] = int(data_dict[\"cc\"])\n",
    "    df[\"최고출력\"] = int(data_dict[\"output\"])\n",
    "    df[\"최대토크\"] = int(data_dict[\"torque\"])\n",
    "    df[\"승차정원\"] = int(data_dict[\"people\"])\n",
    "    df[\"휠_1\"] = int(data_dict[\"wheel\"])\n",
    "    df[\"타이어_수정\"] = int(data_dict[\"tire\"])\n",
    "    \n",
    "    df[\"압류\"] = 0\n",
    "    df[\"저당\"] = 0\n",
    "    df[\"전손이력\"] = 0\n",
    "    df[\"용도이력\"] = 0\n",
    "    df[\"사용자변경\"] = 0\n",
    "    df[\"차체/일반\"] = 0\n",
    "    df[\"엔진/주요\"] = 1\n",
    "    \n",
    "    \n",
    "    ## 값으로 들어온것만 1 나머지 0\n",
    "    df[\"연료_\"+data_dict[\"fuel\"]] = 1\n",
    "    if data_dict[\"car_type\"] ==\"준대형\":\n",
    "        df[\"차종_대형\"] = 1\n",
    "    else:\n",
    "        df[\"차종_\"+data_dict[\"car_type\"]] = 1\n",
    "    \n",
    "    df[\"색상_\"+data_dict[\"color\"]] = 1\n",
    "    df[\"제조사_\"+data_dict[\"brand\"]] = 1\n",
    "    df[\"구동방식_\"+data_dict[\"drivesys\"]] = 1\n",
    "    print(df.columns)\n",
    "    return df\n",
    "    \n",
    "    "
   ]
  },
  {
   "cell_type": "code",
   "execution_count": 6,
   "metadata": {},
   "outputs": [
    {
     "name": "stdout",
     "output_type": "stream",
     "text": [
      " * Serving Flask app \"__main__\" (lazy loading)\n",
      " * Environment: production\n",
      "   WARNING: This is a development server. Do not use it in a production deployment.\n",
      "   Use a production WSGI server instead.\n",
      " * Debug mode: off\n"
     ]
    },
    {
     "name": "stderr",
     "output_type": "stream",
     "text": [
      " * Running on http://localhost:9000/ (Press CTRL+C to quit)\n"
     ]
    },
    {
     "data": {
      "text/plain": [
       "ImmutableMultiDict([('brand', '기아'), ('model', '뉴모닝'), ('d_model', 'LX'), ('grade', '기본형'), ('year', '2008'), ('color', '흰색'), ('car_type', '경차'), ('gear', '오토'), ('fuel', '가솔린'), ('fe', '19'), ('cc', '999'), ('output', '64'), ('torque', '9'), ('drivesys', 'FF'), ('people', '5'), ('wheel', '13'), ('tire', '175')])"
      ]
     },
     "metadata": {},
     "output_type": "display_data"
    },
    {
     "name": "stderr",
     "output_type": "stream",
     "text": [
      "127.0.0.1 - - [28/Jun/2021 09:41:01] \"\u001b[32mPOST /carpred HTTP/1.1\u001b[0m\" 302 -\n"
     ]
    },
    {
     "name": "stdout",
     "output_type": "stream",
     "text": [
      "Index(['신차가격', '연식', '주행거리', '변속기', '연비', '배기량', '압류', '저당', '전손이력', '용도이력',\n",
      "       '사용자변경', '차체/일반', '엔진/주요', '최고출력', '최대토크', '승차정원', '휠_1', '타이어_수정',\n",
      "       '연료_LPG', '연료_가솔린', '연료_기타', '연료_디젤', '차종_RV', '차종_SUV', '차종_경차',\n",
      "       '차종_대형', '차종_소형', '차종_승합', '차종_준중형', '차종_중형', '차종_트럭', '색상_검정색',\n",
      "       '색상_기타', '색상_은색', '색상_진주색', '색상_회색', '색상_흰색', '제조사_기아', '제조사_르노삼성',\n",
      "       '제조사_쌍용', '제조사_제네시스', '제조사_한국GM', '제조사_현대', '구동방식_4WD', '구동방식_AWD',\n",
      "       '구동방식_FF', '구동방식_FR'],\n",
      "      dtype='object')\n",
      "   신차가격  연식    주행거리  변속기  연비  배기량  압류  저당  전손이력  용도이력  ...  제조사_기아  제조사_르노삼성  \\\n",
      "0  2228   8  260000    1  19  999   0   0     0     0  ...       1       0.0   \n",
      "\n",
      "   제조사_쌍용  제조사_제네시스  제조사_한국GM  제조사_현대  구동방식_4WD  구동방식_AWD  구동방식_FF  구동방식_FR  \n",
      "0     0.0       0.0       0.0     0.0       0.0       0.0        1      0.0  \n",
      "\n",
      "[1 rows x 47 columns]\n",
      "http://localhost:8082/CarSite/pricePre?brand=기아&model=뉴모닝&d_model=LX&grade=기본형&year=2008&pre=331\n"
     ]
    }
   ],
   "source": [
    "app = Flask(__name__) # 내장변수 name을 이용해 서버 구동시키는 객체 생성\n",
    "\n",
    "with open(\"xgb_model_complete.model\",\"rb\") as f:\n",
    "    model = pickle.load(f)\n",
    "df1=0\n",
    "@app.route(\"/carpred\", methods=[\"POST\",\"GET\"])## 값 받을 파이썬 주소\n",
    "def predict_price():\n",
    "    if request.method == \"POST\":\n",
    "        display(request.form)\n",
    "        \n",
    "        # 넘어온 값 전처리()\n",
    "        d_list = pasingdata(request.form)\n",
    "        if d_list[0] == \"\" or d_list[1] ==\"\" or d_list[2] == \"\" or d_list[3] == \"\" or d_list[4] == \"\":\n",
    "            return redirect(\"http://localhost:8082/CarSite/carprice.jsp\")\n",
    "        df = changedata(request.form)\n",
    "        df1=df\n",
    "        print(df)\n",
    "        pre_list = []\n",
    "        for i in range(5) :\n",
    "            df[\"연식\"] = df[\"연식\"] -i\n",
    "            df[\"주행거리\"] = df[\"주행거리\"] + (i*20000)\n",
    "            if df.iloc[0,1]<=18 :\n",
    "                df[\"차체/일반\"] = 0\n",
    "            else :\n",
    "                df[\"차체/일반\"] = 1\n",
    "            if df.iloc[0,1]<=16 :\n",
    "                df[\"엔진/주요\"] = 0\n",
    "            else :\n",
    "                df[\"엔진/주요\"] = 1\n",
    "            pre = model.predict(df)\n",
    "            preStr = str(pre[0]).split(\".\")[0]\n",
    "            pre_list.append(preStr)\n",
    "                \n",
    "        print(f\"http://localhost:8082/CarSite/pricePre?brand={d_list[0]}&model={d_list[1]}&d_model={d_list[2]}&grade={d_list[3]}&year={d_list[4]}&pre={preStr}\")\n",
    "        return redirect(f\"http://localhost:8082/CarSite/pricePre?brand={d_list[0]}&model={d_list[1]}&d_model={d_list[2]}&grade={d_list[3]}&year={d_list[4]}&pre={pre_list[0]}&pre2={pre_list[1]}&pre3={pre_list[2]}&pre4={pre_list[3]}&pre5={pre_list[4]}\")\n",
    "\n",
    "if __name__ == \"__main__\" : # .py 파일에서 main 함수 역할\n",
    "    app.run(host=\"localhost\",port=\"9000\") ## app.run(\"서버 url,포트번호\")"
   ]
  },
  {
   "cell_type": "code",
   "execution_count": null,
   "metadata": {},
   "outputs": [],
   "source": []
  }
 ],
 "metadata": {
  "kernelspec": {
   "display_name": "Python 3",
   "language": "python",
   "name": "python3"
  },
  "language_info": {
   "codemirror_mode": {
    "name": "ipython",
    "version": 3
   },
   "file_extension": ".py",
   "mimetype": "text/x-python",
   "name": "python",
   "nbconvert_exporter": "python",
   "pygments_lexer": "ipython3",
   "version": "3.8.5"
  },
  "toc": {
   "base_numbering": 1,
   "nav_menu": {},
   "number_sections": true,
   "sideBar": true,
   "skip_h1_title": false,
   "title_cell": "Table of Contents",
   "title_sidebar": "Contents",
   "toc_cell": false,
   "toc_position": {},
   "toc_section_display": true,
   "toc_window_display": false
  }
 },
 "nbformat": 4,
 "nbformat_minor": 4
}
