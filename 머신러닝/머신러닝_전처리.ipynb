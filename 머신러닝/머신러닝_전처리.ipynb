{
 "cells": [
  {
   "cell_type": "code",
   "execution_count": 40,
   "metadata": {},
   "outputs": [],
   "source": [
    "import pandas as pd\n",
    "import numpy as np\n",
    "from sklearn.metrics import mean_squared_error"
   ]
  },
  {
   "cell_type": "code",
   "execution_count": 41,
   "metadata": {
    "scrolled": false
   },
   "outputs": [
    {
     "data": {
      "text/plain": [
       "(17243, 38)"
      ]
     },
     "execution_count": 41,
     "metadata": {},
     "output_type": "execute_result"
    }
   ],
   "source": [
    "df = pd.read_csv(\"car_learning_data_complete.csv\",encoding=\"EUC-KR\")\n",
    "df.shape"
   ]
  },
  {
   "cell_type": "code",
   "execution_count": 42,
   "metadata": {},
   "outputs": [],
   "source": [
    "df[\"중고차가격\"]=df[\"중고차가격\"].astype(\"str\")\n",
    "df[\"주행거리\"]=df[\"주행거리\"].str.replace(\"km\",\"\").str.replace(\",\",\"\")\n",
    "df[\"연비\"]=df[\"연비\"].str.replace(\"Km\",\"\").str.replace(\",\",\"\")\n",
    "df[\"사용자변경\"] = df[\"사용자변경\"].str.replace(\"회\",\"\").str.replace(\"없음\",\"0\")\n",
    "df['압류'] = df[\"압류\"].str.replace(\"건\",\"\")\n",
    "df[\"변속기\"] = df[\"변속기\"].str.replace(\"CVT\",\"오토\").str.replace(\"SAT\",\"수동\")\n",
    "df = df.drop(df[df[\"신차가격\"]==\"리스차량\"].index)"
   ]
  },
  {
   "cell_type": "code",
   "execution_count": 43,
   "metadata": {},
   "outputs": [],
   "source": [
    "y_list = []\n",
    "for i in df[\"연식\"]:\n",
    "    a=i.split(\"(\")[1]\n",
    "    y_list.append(a[:2])\n",
    "df[\"연식\"]=y_list"
   ]
  },
  {
   "cell_type": "code",
   "execution_count": 44,
   "metadata": {},
   "outputs": [],
   "source": [
    "del df[\"출시가격\"]\n",
    "del df[\"url\"]\n",
    "del df[\"옵션\"]\n",
    "del df[\"모델\"]\n",
    "del df[\"세부모델\"]\n",
    "del df[\"등급\"]\n",
    "del df[\"연식.1\"]\n",
    "del df[\"차량번호\"]\n",
    "del df[\"세금미납\"]\n",
    "del df[\"침수이력\"]\n",
    "del df[\"모델명\"]"
   ]
  },
  {
   "cell_type": "code",
   "execution_count": 45,
   "metadata": {},
   "outputs": [
    {
     "name": "stderr",
     "output_type": "stream",
     "text": [
      "<ipython-input-45-9c1a3fd77f3a>:5: SettingWithCopyWarning: \n",
      "A value is trying to be set on a copy of a slice from a DataFrame\n",
      "\n",
      "See the caveats in the documentation: https://pandas.pydata.org/pandas-docs/stable/user_guide/indexing.html#returning-a-view-versus-a-copy\n",
      "  df[\"신차가격\"][df[\"신차가격\"]==\"신차가격없음\"]=df[\"차량가격\"][df[\"신차가격\"]==\"신차가격없음\"]\n",
      "<ipython-input-45-9c1a3fd77f3a>:7: SettingWithCopyWarning: \n",
      "A value is trying to be set on a copy of a slice from a DataFrame\n",
      "\n",
      "See the caveats in the documentation: https://pandas.pydata.org/pandas-docs/stable/user_guide/indexing.html#returning-a-view-versus-a-copy\n",
      "  df[\"신차가격\"][df[\"신차가격\"].isna()]=df[\"차량가격\"][df[\"신차가격\"].isna()]\n"
     ]
    }
   ],
   "source": [
    "#차량가격이 없는거 삭제\n",
    "df = df.dropna()\n",
    "df = df.drop(df[df[\"차량가격\"]==0].index)\n",
    "#신차가격 채워주기\n",
    "df[\"신차가격\"][df[\"신차가격\"]==\"신차가격없음\"]=df[\"차량가격\"][df[\"신차가격\"]==\"신차가격없음\"]\n",
    "df[\"신차가격\"] = df[\"신차가격\"].str.replace(\",\",\"\")\n",
    "df[\"신차가격\"][df[\"신차가격\"].isna()]=df[\"차량가격\"][df[\"신차가격\"].isna()]\n",
    "df[\"중고차가격\"] = df[\"중고차가격\"].str.replace(\",\",\"\")\n",
    "df[df[\"신차가격\"]==\"리스차량\"]\n",
    "df[\"주행연수\"]=df[\"연식\"]\n",
    "df[\"중고차가격\"].astype(\"float64\")\n",
    "df[\"중고차가격\"].astype(\"int64\")\n",
    "df[\"신차가격\"].astype(\"int\")\n",
    "del df[\"차량가격\"]"
   ]
  },
  {
   "cell_type": "code",
   "execution_count": 46,
   "metadata": {},
   "outputs": [],
   "source": [
    "#연료 전처리\n",
    "df[\"연료\"]=df[\"연료\"].str.replace(\"하이브리드\\(가솔린\\)\",\"기타\").str.replace(\"전기\",\"기타\").str.replace(\"가솔린\\+LPG\",\"기타\").str.replace(\"CNG\",\"기타\")"
   ]
  },
  {
   "cell_type": "code",
   "execution_count": 47,
   "metadata": {},
   "outputs": [
    {
     "name": "stderr",
     "output_type": "stream",
     "text": [
      "<ipython-input-47-31ee9372543d>:2: SettingWithCopyWarning: \n",
      "A value is trying to be set on a copy of a slice from a DataFrame\n",
      "\n",
      "See the caveats in the documentation: https://pandas.pydata.org/pandas-docs/stable/user_guide/indexing.html#returning-a-view-versus-a-copy\n",
      "  df[\"변속기\"][df[\"변속기\"]==\"CVT\"]=\"오토\"\n",
      "<ipython-input-47-31ee9372543d>:3: SettingWithCopyWarning: \n",
      "A value is trying to be set on a copy of a slice from a DataFrame\n",
      "\n",
      "See the caveats in the documentation: https://pandas.pydata.org/pandas-docs/stable/user_guide/indexing.html#returning-a-view-versus-a-copy\n",
      "  df[\"변속기\"][df[\"변속기\"]==\"SAT\"]=\"수동\"\n",
      "<ipython-input-47-31ee9372543d>:4: SettingWithCopyWarning: \n",
      "A value is trying to be set on a copy of a slice from a DataFrame\n",
      "\n",
      "See the caveats in the documentation: https://pandas.pydata.org/pandas-docs/stable/user_guide/indexing.html#returning-a-view-versus-a-copy\n",
      "  df[\"변속기\"][df[\"변속기\"]==\"오토\"]=1\n",
      "<ipython-input-47-31ee9372543d>:5: SettingWithCopyWarning: \n",
      "A value is trying to be set on a copy of a slice from a DataFrame\n",
      "\n",
      "See the caveats in the documentation: https://pandas.pydata.org/pandas-docs/stable/user_guide/indexing.html#returning-a-view-versus-a-copy\n",
      "  df[\"변속기\"][df[\"변속기\"]==\"수동\"]=0\n"
     ]
    }
   ],
   "source": [
    "#변속기 전처리\n",
    "df[\"변속기\"][df[\"변속기\"]==\"CVT\"]=\"오토\"\n",
    "df[\"변속기\"][df[\"변속기\"]==\"SAT\"]=\"수동\"\n",
    "df[\"변속기\"][df[\"변속기\"]==\"오토\"]=1\n",
    "df[\"변속기\"][df[\"변속기\"]==\"수동\"]=0"
   ]
  },
  {
   "cell_type": "code",
   "execution_count": 48,
   "metadata": {},
   "outputs": [
    {
     "data": {
      "text/plain": [
       "Index(['신차가격', '중고차가격', '연식', '주행거리', '연료', '변속기', '연비', '차종', '배기량', '색상',\n",
       "       '압류', '저당', '전손이력', '용도이력', '사용자변경', '차체/일반', '엔진/주요', '제조사', '복합연비',\n",
       "       '배기량.1', '최고출력', '최대토크', '구동방식', '승차정원', '휠_1', '타이어_수정', '주행연수'],\n",
       "      dtype='object')"
      ]
     },
     "execution_count": 48,
     "metadata": {},
     "output_type": "execute_result"
    }
   ],
   "source": [
    "df.columns"
   ]
  },
  {
   "cell_type": "code",
   "execution_count": 49,
   "metadata": {
    "scrolled": true
   },
   "outputs": [
    {
     "name": "stderr",
     "output_type": "stream",
     "text": [
      "<ipython-input-49-6d833e418936>:3: SettingWithCopyWarning: \n",
      "A value is trying to be set on a copy of a slice from a DataFrame\n",
      "\n",
      "See the caveats in the documentation: https://pandas.pydata.org/pandas-docs/stable/user_guide/indexing.html#returning-a-view-versus-a-copy\n",
      "  df[\"배기량\"][df[\"배기량\"]==0]=df[\"배기량.1\"][df[\"배기량\"]==0]\n"
     ]
    }
   ],
   "source": [
    "#배기량 전처리\n",
    "df[\"배기량\"]=df[\"배기량\"].str.replace(\"cc\",\"\").str.replace(\",\",\"\").astype(\"int64\")\n",
    "df[\"배기량\"][df[\"배기량\"]==0]=df[\"배기량.1\"][df[\"배기량\"]==0]\n",
    "del df[\"배기량.1\"]"
   ]
  },
  {
   "cell_type": "code",
   "execution_count": 50,
   "metadata": {
    "scrolled": true
   },
   "outputs": [
    {
     "name": "stderr",
     "output_type": "stream",
     "text": [
      "<ipython-input-50-76cedc1390c4>:2: SettingWithCopyWarning: \n",
      "A value is trying to be set on a copy of a slice from a DataFrame\n",
      "\n",
      "See the caveats in the documentation: https://pandas.pydata.org/pandas-docs/stable/user_guide/indexing.html#returning-a-view-versus-a-copy\n",
      "  df[\"연비\"][df[\"연비\"]==\"정보없음\"]=df[\"복합연비\"][df[\"연비\"]==\"정보없음\"]\n"
     ]
    },
    {
     "data": {
      "text/plain": [
       "0        15.0\n",
       "1        15.0\n",
       "2        15.0\n",
       "3        15.0\n",
       "4        15.0\n",
       "         ... \n",
       "17238    10.4\n",
       "17239    10.7\n",
       "17240    10.7\n",
       "17241    10.7\n",
       "17242    10.7\n",
       "Name: 연비, Length: 17195, dtype: float64"
      ]
     },
     "execution_count": 50,
     "metadata": {},
     "output_type": "execute_result"
    }
   ],
   "source": [
    "#연비 전처리\n",
    "df[\"연비\"][df[\"연비\"]==\"정보없음\"]=df[\"복합연비\"][df[\"연비\"]==\"정보없음\"]\n",
    "del df[\"복합연비\"]\n",
    "df[\"연비\"].astype(\"float64\")"
   ]
  },
  {
   "cell_type": "code",
   "execution_count": 51,
   "metadata": {
    "scrolled": false
   },
   "outputs": [
    {
     "name": "stderr",
     "output_type": "stream",
     "text": [
      "<ipython-input-51-ff8bbb136517>:2: SettingWithCopyWarning: \n",
      "A value is trying to be set on a copy of a slice from a DataFrame\n",
      "\n",
      "See the caveats in the documentation: https://pandas.pydata.org/pandas-docs/stable/user_guide/indexing.html#returning-a-view-versus-a-copy\n",
      "  df[\"압류\"][df[\"압류\"]==\"없음\"]=0\n",
      "<ipython-input-51-ff8bbb136517>:3: SettingWithCopyWarning: \n",
      "A value is trying to be set on a copy of a slice from a DataFrame\n",
      "\n",
      "See the caveats in the documentation: https://pandas.pydata.org/pandas-docs/stable/user_guide/indexing.html#returning-a-view-versus-a-copy\n",
      "  df[\"압류\"][df[\"압류\"]==\"정보없음\"]=0\n",
      "<ipython-input-51-ff8bbb136517>:4: SettingWithCopyWarning: \n",
      "A value is trying to be set on a copy of a slice from a DataFrame\n",
      "\n",
      "See the caveats in the documentation: https://pandas.pydata.org/pandas-docs/stable/user_guide/indexing.html#returning-a-view-versus-a-copy\n",
      "  df[\"압류\"][df[\"압류\"]!=0]=1\n"
     ]
    }
   ],
   "source": [
    "#압류 전처리\n",
    "df[\"압류\"][df[\"압류\"]==\"없음\"]=0\n",
    "df[\"압류\"][df[\"압류\"]==\"정보없음\"]=0\n",
    "df[\"압류\"][df[\"압류\"]!=0]=1\n",
    "df[\"압류\"]=df[\"압류\"].astype(\"int64\")"
   ]
  },
  {
   "cell_type": "code",
   "execution_count": 52,
   "metadata": {
    "scrolled": true
   },
   "outputs": [
    {
     "name": "stderr",
     "output_type": "stream",
     "text": [
      "<ipython-input-52-7f39e97e2780>:2: SettingWithCopyWarning: \n",
      "A value is trying to be set on a copy of a slice from a DataFrame\n",
      "\n",
      "See the caveats in the documentation: https://pandas.pydata.org/pandas-docs/stable/user_guide/indexing.html#returning-a-view-versus-a-copy\n",
      "  df[\"저당\"][df[\"저당\"]==\"없음\"]=0\n",
      "<ipython-input-52-7f39e97e2780>:3: SettingWithCopyWarning: \n",
      "A value is trying to be set on a copy of a slice from a DataFrame\n",
      "\n",
      "See the caveats in the documentation: https://pandas.pydata.org/pandas-docs/stable/user_guide/indexing.html#returning-a-view-versus-a-copy\n",
      "  df[\"저당\"][df[\"저당\"]==\"정보없음\"]=0\n",
      "<ipython-input-52-7f39e97e2780>:4: SettingWithCopyWarning: \n",
      "A value is trying to be set on a copy of a slice from a DataFrame\n",
      "\n",
      "See the caveats in the documentation: https://pandas.pydata.org/pandas-docs/stable/user_guide/indexing.html#returning-a-view-versus-a-copy\n",
      "  df[\"저당\"][df[\"저당\"]!=0]=1\n"
     ]
    }
   ],
   "source": [
    "#저당 전처리\n",
    "df[\"저당\"][df[\"저당\"]==\"없음\"]=0\n",
    "df[\"저당\"][df[\"저당\"]==\"정보없음\"]=0\n",
    "df[\"저당\"][df[\"저당\"]!=0]=1\n",
    "df[\"저당\"]=df[\"저당\"].astype(\"int64\")"
   ]
  },
  {
   "cell_type": "code",
   "execution_count": 53,
   "metadata": {
    "scrolled": true
   },
   "outputs": [
    {
     "name": "stderr",
     "output_type": "stream",
     "text": [
      "<ipython-input-53-c5a7955c138a>:2: SettingWithCopyWarning: \n",
      "A value is trying to be set on a copy of a slice from a DataFrame\n",
      "\n",
      "See the caveats in the documentation: https://pandas.pydata.org/pandas-docs/stable/user_guide/indexing.html#returning-a-view-versus-a-copy\n",
      "  df[\"전손이력\"][df[\"전손이력\"]==\"없음\"]=0\n",
      "<ipython-input-53-c5a7955c138a>:3: SettingWithCopyWarning: \n",
      "A value is trying to be set on a copy of a slice from a DataFrame\n",
      "\n",
      "See the caveats in the documentation: https://pandas.pydata.org/pandas-docs/stable/user_guide/indexing.html#returning-a-view-versus-a-copy\n",
      "  df[\"전손이력\"][df[\"전손이력\"]==\"정보없음\"]=0\n",
      "<ipython-input-53-c5a7955c138a>:4: SettingWithCopyWarning: \n",
      "A value is trying to be set on a copy of a slice from a DataFrame\n",
      "\n",
      "See the caveats in the documentation: https://pandas.pydata.org/pandas-docs/stable/user_guide/indexing.html#returning-a-view-versus-a-copy\n",
      "  df[\"전손이력\"][df[\"전손이력\"]!=0]=1\n"
     ]
    }
   ],
   "source": [
    "#전손이력\n",
    "df[\"전손이력\"][df[\"전손이력\"]==\"없음\"]=0\n",
    "df[\"전손이력\"][df[\"전손이력\"]==\"정보없음\"]=0\n",
    "df[\"전손이력\"][df[\"전손이력\"]!=0]=1\n",
    "df[\"전손이력\"]=df[\"전손이력\"].astype(\"int64\")"
   ]
  },
  {
   "cell_type": "code",
   "execution_count": 54,
   "metadata": {
    "scrolled": true
   },
   "outputs": [
    {
     "name": "stderr",
     "output_type": "stream",
     "text": [
      "<ipython-input-54-1240fe43e9eb>:2: SettingWithCopyWarning: \n",
      "A value is trying to be set on a copy of a slice from a DataFrame\n",
      "\n",
      "See the caveats in the documentation: https://pandas.pydata.org/pandas-docs/stable/user_guide/indexing.html#returning-a-view-versus-a-copy\n",
      "  df[\"용도이력\"][df[\"용도이력\"]==\"없음\"]=0\n",
      "<ipython-input-54-1240fe43e9eb>:3: SettingWithCopyWarning: \n",
      "A value is trying to be set on a copy of a slice from a DataFrame\n",
      "\n",
      "See the caveats in the documentation: https://pandas.pydata.org/pandas-docs/stable/user_guide/indexing.html#returning-a-view-versus-a-copy\n",
      "  df[\"용도이력\"][df[\"용도이력\"]==\"정보없음\"]=0\n",
      "<ipython-input-54-1240fe43e9eb>:4: SettingWithCopyWarning: \n",
      "A value is trying to be set on a copy of a slice from a DataFrame\n",
      "\n",
      "See the caveats in the documentation: https://pandas.pydata.org/pandas-docs/stable/user_guide/indexing.html#returning-a-view-versus-a-copy\n",
      "  df[\"용도이력\"][df[\"용도이력\"]!=0]=1\n"
     ]
    }
   ],
   "source": [
    "#용도이력\n",
    "df[\"용도이력\"][df[\"용도이력\"]==\"없음\"]=0\n",
    "df[\"용도이력\"][df[\"용도이력\"]==\"정보없음\"]=0\n",
    "df[\"용도이력\"][df[\"용도이력\"]!=0]=1\n",
    "df[\"용도이력\"]=df[\"용도이력\"].astype(\"int64\")"
   ]
  },
  {
   "cell_type": "code",
   "execution_count": 55,
   "metadata": {
    "scrolled": true
   },
   "outputs": [
    {
     "name": "stderr",
     "output_type": "stream",
     "text": [
      "<ipython-input-55-ce3fe6c91507>:3: SettingWithCopyWarning: \n",
      "A value is trying to be set on a copy of a slice from a DataFrame\n",
      "\n",
      "See the caveats in the documentation: https://pandas.pydata.org/pandas-docs/stable/user_guide/indexing.html#returning-a-view-versus-a-copy\n",
      "  df[\"사용자변경\"][df[\"사용자변경\"]==0]=0\n",
      "<ipython-input-55-ce3fe6c91507>:4: SettingWithCopyWarning: \n",
      "A value is trying to be set on a copy of a slice from a DataFrame\n",
      "\n",
      "See the caveats in the documentation: https://pandas.pydata.org/pandas-docs/stable/user_guide/indexing.html#returning-a-view-versus-a-copy\n",
      "  df[\"사용자변경\"][df[\"사용자변경\"]==1]=0\n",
      "<ipython-input-55-ce3fe6c91507>:5: SettingWithCopyWarning: \n",
      "A value is trying to be set on a copy of a slice from a DataFrame\n",
      "\n",
      "See the caveats in the documentation: https://pandas.pydata.org/pandas-docs/stable/user_guide/indexing.html#returning-a-view-versus-a-copy\n",
      "  df[\"사용자변경\"][df[\"사용자변경\"]==2]=0\n",
      "<ipython-input-55-ce3fe6c91507>:6: SettingWithCopyWarning: \n",
      "A value is trying to be set on a copy of a slice from a DataFrame\n",
      "\n",
      "See the caveats in the documentation: https://pandas.pydata.org/pandas-docs/stable/user_guide/indexing.html#returning-a-view-versus-a-copy\n",
      "  df[\"사용자변경\"][df[\"사용자변경\"]==3]=0\n",
      "<ipython-input-55-ce3fe6c91507>:7: SettingWithCopyWarning: \n",
      "A value is trying to be set on a copy of a slice from a DataFrame\n",
      "\n",
      "See the caveats in the documentation: https://pandas.pydata.org/pandas-docs/stable/user_guide/indexing.html#returning-a-view-versus-a-copy\n",
      "  df[\"사용자변경\"][df[\"사용자변경\"]!=0]=1\n"
     ]
    }
   ],
   "source": [
    "#사용자변경\n",
    "df[\"사용자변경\"]=df[\"사용자변경\"].astype(\"int64\")\n",
    "df[\"사용자변경\"][df[\"사용자변경\"]==0]=0\n",
    "df[\"사용자변경\"][df[\"사용자변경\"]==1]=0\n",
    "df[\"사용자변경\"][df[\"사용자변경\"]==2]=0\n",
    "df[\"사용자변경\"][df[\"사용자변경\"]==3]=0\n",
    "df[\"사용자변경\"][df[\"사용자변경\"]!=0]=1"
   ]
  },
  {
   "cell_type": "code",
   "execution_count": 56,
   "metadata": {
    "scrolled": true
   },
   "outputs": [],
   "source": [
    "#연식 전처리\n",
    "df[\"연식\"]=df[\"연식\"].astype(\"int64\")\n",
    "del df[\"주행연수\"]"
   ]
  },
  {
   "cell_type": "code",
   "execution_count": 57,
   "metadata": {},
   "outputs": [
    {
     "name": "stderr",
     "output_type": "stream",
     "text": [
      "<ipython-input-57-7cf59324866d>:2: SettingWithCopyWarning: \n",
      "A value is trying to be set on a copy of a slice from a DataFrame\n",
      "\n",
      "See the caveats in the documentation: https://pandas.pydata.org/pandas-docs/stable/user_guide/indexing.html#returning-a-view-versus-a-copy\n",
      "  df[\"차체/일반\"][df[\"차체/일반\"]==\"보증종료 / 보증종료\"]=0\n",
      "<ipython-input-57-7cf59324866d>:3: SettingWithCopyWarning: \n",
      "A value is trying to be set on a copy of a slice from a DataFrame\n",
      "\n",
      "See the caveats in the documentation: https://pandas.pydata.org/pandas-docs/stable/user_guide/indexing.html#returning-a-view-versus-a-copy\n",
      "  df[\"차체/일반\"][df[\"차체/일반\"]!=0]=1\n"
     ]
    }
   ],
   "source": [
    "#자체/일반 전처리\n",
    "df[\"차체/일반\"][df[\"차체/일반\"]==\"보증종료 / 보증종료\"]=0\n",
    "df[\"차체/일반\"][df[\"차체/일반\"]!=0]=1\n",
    "df[\"차체/일반\"]=df[\"차체/일반\"].astype(\"int64\")"
   ]
  },
  {
   "cell_type": "code",
   "execution_count": 58,
   "metadata": {
    "scrolled": true
   },
   "outputs": [
    {
     "name": "stderr",
     "output_type": "stream",
     "text": [
      "<ipython-input-58-66e0ff034303>:2: SettingWithCopyWarning: \n",
      "A value is trying to be set on a copy of a slice from a DataFrame\n",
      "\n",
      "See the caveats in the documentation: https://pandas.pydata.org/pandas-docs/stable/user_guide/indexing.html#returning-a-view-versus-a-copy\n",
      "  df[\"엔진/주요\"][df[\"엔진/주요\"]==\"보증종료 / 보증종료\"]=0\n",
      "<ipython-input-58-66e0ff034303>:3: SettingWithCopyWarning: \n",
      "A value is trying to be set on a copy of a slice from a DataFrame\n",
      "\n",
      "See the caveats in the documentation: https://pandas.pydata.org/pandas-docs/stable/user_guide/indexing.html#returning-a-view-versus-a-copy\n",
      "  df[\"엔진/주요\"][df[\"엔진/주요\"]!=0]=1\n"
     ]
    }
   ],
   "source": [
    "#엔진/주요 전처리\n",
    "df[\"엔진/주요\"][df[\"엔진/주요\"]==\"보증종료 / 보증종료\"]=0\n",
    "df[\"엔진/주요\"][df[\"엔진/주요\"]!=0]=1\n",
    "df[\"엔진/주요\"]=df[\"엔진/주요\"].astype(\"int64\")"
   ]
  },
  {
   "cell_type": "code",
   "execution_count": 59,
   "metadata": {
    "scrolled": true
   },
   "outputs": [],
   "source": [
    "#타입 변경\n",
    "df = df.dropna()\n",
    "df[\"신차가격\"]=df[\"신차가격\"].astype(\"int64\")\n",
    "df[\"중고차가격\"]=df[\"중고차가격\"].astype(\"int64\")\n",
    "df[\"주행거리\"]=df[\"주행거리\"].astype(\"int64\")\n",
    "df[\"변속기\"]=df[\"변속기\"].astype(\"int64\")\n",
    "df[\"연비\"]=df[\"연비\"].astype(\"float64\")\n",
    "df[\"최고출력\"]=df[\"최고출력\"].astype(\"int64\")\n",
    "df[\"최대토크\"]=df[\"최대토크\"].astype(\"int64\")"
   ]
  },
  {
   "cell_type": "code",
   "execution_count": 60,
   "metadata": {},
   "outputs": [],
   "source": [
    "df[\"색상\"]=df[\"색상\"].map({\n",
    "    '흰색' : \"흰색\", '파랑색' : \"기타\", '진주색' : \"진주색\", '검정색' : \"검정색\", '갈색' : \"기타\", '쥐색' : \"회색\", '회색' : \"회색\", '검정' : \"검정색\", '빨간색' : \"기타\", '미스틱와인' : \"기타\",\n",
    "    '빨강색' : \"기타\", '연베이지' : \"베이지\", '다크블루' : \"기타\", '자주색' : \"기타\", '보라색' : \"기타\", '진주' : \"진주색\", '청색' : \"기타\", '은색' : \"은색\", '베이지' : \"베이지\",\n",
    "    '크리미  베이지' : '베이지', '베이지색' : '베이지', '초록색' : \"기타\", '노랑색' : \"기타\", '보라' : \"기타\", '다크그레이' : \"회색\", '건그레이' : \"회색\", '녹색' : \"기타\",\n",
    "    '분홍' : \"기타\", '하늘' : \"기타\", '블루펄' : \"기타\", '하늘색' : \"기타\", '분홍색' : \"기타\", '검붉은색' : \"기타\", '핑크색' : \"기타\", '핑크' : \"기타\", '주황색' : \"기타\", '파랑' :\"기타\",\n",
    "    '진곤색' : \"기타\", '은비' : \"기타\", '민트' : \"기타\", '스카이블루' : \"기타\", '갈대색' : \"기타\", '밤색' : \"기타\", '남곤색' : \"기타\", '파랑(남색,곤색)' : \"기타\", '연두' : \"기타\",\n",
    "    '초록' : \"기타\", '민트색' : \"기타\", '노란색' : \"기타\", '인기색상' : \"기타\", '빨강' : \"기타\", '은회색' : \"회색\", '청옥색' : \"기타\", '모나코핑크' : \"기타\", '감청' : \"기타\",\n",
    "    '연두색' : \"기타\", '곤색' : \"기타\", '겨자색' : \"기타\", '브라운' : \"기타\", '진청색' : \"기타\", '진회색' : \"회색\", '삿포로화이트' : \"흰색\", '어반그레이' : \"회색\",\n",
    "    '울트라실버' : \"은색\", 'Neo블랙' : \"검정색\", '클라우드펄' : \"진주색\", '체리블랙' : \"검정색\", '명은색': \"은색\", 'Urban Gray' : \"회색\", '하이퍼메탈' : \"회색\" ,\n",
    "    '흑장미생삭' : \"검정색\", '노랑' : \"기타\", '오렌지색':\"기타\", '아이보리' : \"기타\", '남색' : \"기타\", '검정투톤' : \"검정색\", '빨강(주홍)' : \"기타\", '1' : \"기타\", '진청' : \"기타\",\n",
    "    '아틀란티 블루' : \"기타\", '블루' : \"기타\", '그레비티블루' : \"기타\", '자주' : \"기타\", '그래비티블루' : \"기타\", '스노우화이트펄' : \"진주색\", '흰색(미색)' : \"흰색\",\n",
    "    '스노우 화이트 펄' : \"진주색\", '연금색' : \"기타\", '미색' :\"기타\", '금색' : \"기타\", '그래비티 블루' : \"기타\", '브론즈' : \"기타\", '플라티늄그라파이트' : \"기타\",\n",
    "    '플라티늄 그라파이트' : \"기타\", '판테라그레이' : \"회색\", '흑장미색' : \"검정색\", '초록(연두)' : \"기타\", '메탈아이언' : \"회색\", '셀레스티얼블루' : \"기타\",\n",
    "    '와인색' : \"기타\", '비둘기' : \"회색\", '흰색투톤' : \"흰색\", '검청색' : \"기타\", '은색투톤' : \"은색\", '청색투톤' : \"기타\", '리치 에스프레소' : \"기타\",\n",
    "    '플라티늄 그라파이터' : \"기타\", '쥐색상' : \"회색\", '티타늄실버' : \"은색\", '진주펄색' : \"진주색\", '살구색' : \"기타\", '바다색': \"기타\", '연하늘색' : \"기타\",\n",
    "    '밀키베이지' : \"베이지\", '앨리스블루' : \"기타\", '밀크색' : \"진주색\", '밀크 베이지' : \"베이지\", '밀크베이지' : \"베이지\", '에메랄드 블루' : \"기타\", '라인색' : \"기타\",\n",
    "    '쥐색 펄' : \"회색\", '그레이' : \"회색\", '플래티늄 그라파이터' : \"기타\", '갈색(밤색)' : \"기타\", '플래티늄그라파이트' : \"기타\", '군청색' : \"기타\",\n",
    "    '문라이트블루' : \"기타\" , '메탈' : \"회색\", '펄스 레드' : \"기타\", '흰색투턴' : \"흰색\", '녹턴 그레이 메탈릭' : \"회색\", '글루윙실버' : \"은색\", '루나그레이': \"회색\",\n",
    "    '카키메탈' : \"회색\", '판테라 그레이' : \"회색\", '화이트크리스탈' : \"흰색\", '흑장미' : \"검정색\", '감은' : \"은색\", '은하색' : '기타' , '목련색' : \"진주색\", '진남색' : \"기타\",\n",
    "    '아라비안 모카' : \"기타\" , '오션뷰' : \"기타\", '은갈색' : \"은색\", '오션블루' : \"기타\", '녹턴그레이' : \"회색\", '옥시퍼드블루' : \"기타\", '옥스퍼드 블루' : \"기타\",\n",
    "    '폴리시드 메탈' : \"회색\", '폴리시드메탈' : \"회색\", '아라블루' : \"기타\", '루비와인':\"기타\", '바닐라화이트' : \"흰색\", '판데라그레이' : \"회색\", '라이트그레이' : \"회색\",\n",
    "    '티탄그' : \"회색\"\n",
    "})"
   ]
  },
  {
   "cell_type": "code",
   "execution_count": 61,
   "metadata": {},
   "outputs": [],
   "source": [
    "df[\"색상\"]=df[\"색상\"].str.replace(\"베이지\",\"진주색\")"
   ]
  },
  {
   "cell_type": "code",
   "execution_count": 62,
   "metadata": {},
   "outputs": [],
   "source": [
    "#\n",
    "df_c=pd.get_dummies(df,prefix=[\"연료\",\"차종\",\"색상\",\"제조사\",\"구동방식\"])"
   ]
  },
  {
   "cell_type": "code",
   "execution_count": 63,
   "metadata": {},
   "outputs": [
    {
     "data": {
      "text/plain": [
       "Index(['신차가격', '중고차가격', '연식', '주행거리', '변속기', '연비', '배기량', '압류', '저당', '전손이력',\n",
       "       '용도이력', '사용자변경', '차체/일반', '엔진/주요', '최고출력', '최대토크', '승차정원', '휠_1',\n",
       "       '타이어_수정', '연료_LPG', '연료_가솔린', '연료_기타', '연료_디젤', '차종_RV', '차종_SUV',\n",
       "       '차종_경차', '차종_대형', '차종_소형', '차종_승합', '차종_준중형', '차종_중형', '차종_트럭',\n",
       "       '색상_검정색', '색상_기타', '색상_은색', '색상_진주색', '색상_회색', '색상_흰색', '제조사_기아',\n",
       "       '제조사_르노삼성', '제조사_쌍용', '제조사_제네시스', '제조사_한국GM', '제조사_현대', '구동방식_4WD',\n",
       "       '구동방식_AWD', '구동방식_FF', '구동방식_FR'],\n",
       "      dtype='object')"
      ]
     },
     "execution_count": 63,
     "metadata": {},
     "output_type": "execute_result"
    }
   ],
   "source": [
    "#모댈 컬럼들\n",
    "df_c.columns"
   ]
  },
  {
   "cell_type": "code",
   "execution_count": 64,
   "metadata": {},
   "outputs": [],
   "source": [
    "#머신러닝 데이터 \n",
    "y=df_c[\"중고차가격\"]\n",
    "del df_c[\"중고차가격\"]\n",
    "X=df_c"
   ]
  },
  {
   "cell_type": "code",
   "execution_count": 65,
   "metadata": {},
   "outputs": [],
   "source": [
    "#데이터 분리\n",
    "from sklearn.model_selection import train_test_split\n",
    "X_train,X_test,y_train,y_test =train_test_split(X,y,random_state=777)"
   ]
  },
  {
   "cell_type": "code",
   "execution_count": 66,
   "metadata": {
    "scrolled": false
   },
   "outputs": [
    {
     "data": {
      "text/plain": [
       "XGBRFRegressor(base_score=0.5, booster='gbtree', colsample_bylevel=1,\n",
       "               colsample_bytree=1, gamma=0, gpu_id=-1, importance_type='gain',\n",
       "               interaction_constraints='', max_delta_step=0, max_depth=8,\n",
       "               min_child_weight=1, missing=nan, monotone_constraints='()',\n",
       "               n_estimators=100, n_jobs=8, num_parallel_tree=100,\n",
       "               objective='reg:squarederror', random_state=0, reg_alpha=0,\n",
       "               scale_pos_weight=1, tree_method='exact', validate_parameters=1,\n",
       "               verbosity=None)"
      ]
     },
     "execution_count": 66,
     "metadata": {},
     "output_type": "execute_result"
    }
   ],
   "source": [
    "#XGBRFRegressor모델\n",
    "from xgboost import XGBRFRegressor\n",
    "model=XGBRFRegressor(max_depth=8)\n",
    "model.fit(X_train,y_train)"
   ]
  },
  {
   "cell_type": "code",
   "execution_count": 67,
   "metadata": {},
   "outputs": [
    {
     "data": {
      "text/plain": [
       "0.9618282264154071"
      ]
     },
     "execution_count": 67,
     "metadata": {},
     "output_type": "execute_result"
    }
   ],
   "source": [
    "#훈련 스코어(XGBRFRegressor모델)\n",
    "model.score(X_train,y_train)"
   ]
  },
  {
   "cell_type": "code",
   "execution_count": 68,
   "metadata": {
    "scrolled": true
   },
   "outputs": [
    {
     "data": {
      "text/plain": [
       "0.953304441996779"
      ]
     },
     "execution_count": 68,
     "metadata": {},
     "output_type": "execute_result"
    }
   ],
   "source": [
    "#테스트 스코어(XGBRFRegressor모델)\n",
    "model.score(X_test,y_test)"
   ]
  },
  {
   "cell_type": "code",
   "execution_count": 69,
   "metadata": {},
   "outputs": [
    {
     "data": {
      "text/plain": [
       "183.95610361225354"
      ]
     },
     "execution_count": 69,
     "metadata": {},
     "output_type": "execute_result"
    }
   ],
   "source": [
    "#훈련 RMSE(XGBRFRegressor모델)\n",
    "RMSE = mean_squared_error(y_train, model.predict(X_train))**0.5\n",
    "RMSE"
   ]
  },
  {
   "cell_type": "code",
   "execution_count": 70,
   "metadata": {},
   "outputs": [
    {
     "data": {
      "text/plain": [
       "205.87079131265168"
      ]
     },
     "execution_count": 70,
     "metadata": {},
     "output_type": "execute_result"
    }
   ],
   "source": [
    "#테스트 RMSE(XGBRFRegressor모델)\n",
    "RMSE = mean_squared_error(y_test, model.predict(X_test))**0.5\n",
    "RMSE"
   ]
  },
  {
   "cell_type": "code",
   "execution_count": 71,
   "metadata": {
    "scrolled": false
   },
   "outputs": [
    {
     "data": {
      "text/plain": [
       "XGBRegressor(base_score=0.5, booster='gbtree', colsample_bylevel=1,\n",
       "             colsample_bynode=1, colsample_bytree=1, gamma=0, gpu_id=-1,\n",
       "             importance_type='gain', interaction_constraints='',\n",
       "             learning_rate=0.1, max_delta_step=0, max_depth=6,\n",
       "             min_child_weight=1, missing=nan, monotone_constraints='()',\n",
       "             n_estimators=200, n_jobs=8, num_parallel_tree=1, random_state=0,\n",
       "             reg_alpha=0, reg_lambda=1, scale_pos_weight=1, subsample=1,\n",
       "             tree_method='exact', validate_parameters=1, verbosity=None)"
      ]
     },
     "execution_count": 71,
     "metadata": {},
     "output_type": "execute_result"
    }
   ],
   "source": [
    "#XGB Regressor\n",
    "from xgboost import XGBRegressor\n",
    "model1=XGBRegressor(learning_rate=0.1,n_estimators=200)\n",
    "model1.fit(X_train,y_train)"
   ]
  },
  {
   "cell_type": "code",
   "execution_count": 72,
   "metadata": {
    "scrolled": true
   },
   "outputs": [
    {
     "data": {
      "text/plain": [
       "0.9862142378677934"
      ]
     },
     "execution_count": 72,
     "metadata": {},
     "output_type": "execute_result"
    }
   ],
   "source": [
    "#훈련 스코어(XGB Regressor모델)\n",
    "model1.score(X_train,y_train)"
   ]
  },
  {
   "cell_type": "code",
   "execution_count": 73,
   "metadata": {
    "scrolled": false
   },
   "outputs": [
    {
     "data": {
      "text/plain": [
       "0.9665347087266366"
      ]
     },
     "execution_count": 73,
     "metadata": {},
     "output_type": "execute_result"
    }
   ],
   "source": [
    "#테스트 스코어(XGB Regressor모델)\n",
    "model1.score(X_test,y_test)"
   ]
  },
  {
   "cell_type": "code",
   "execution_count": 74,
   "metadata": {
    "scrolled": true
   },
   "outputs": [
    {
     "data": {
      "text/plain": [
       "110.54991752790542"
      ]
     },
     "execution_count": 74,
     "metadata": {},
     "output_type": "execute_result"
    }
   ],
   "source": [
    "#훈련 RMSE(XGBRegressor모델)\n",
    "RMSE = mean_squared_error(y_train, model1.predict(X_train))**0.5\n",
    "RMSE"
   ]
  },
  {
   "cell_type": "code",
   "execution_count": 75,
   "metadata": {},
   "outputs": [
    {
     "data": {
      "text/plain": [
       "174.28268969413148"
      ]
     },
     "execution_count": 75,
     "metadata": {},
     "output_type": "execute_result"
    }
   ],
   "source": [
    "#테스트 RMSE(XGBRegressor모델)\n",
    "RMSE = mean_squared_error(y_test, model1.predict(X_test))**0.5\n",
    "RMSE"
   ]
  },
  {
   "cell_type": "code",
   "execution_count": 76,
   "metadata": {},
   "outputs": [
    {
     "data": {
      "text/plain": [
       "SVR()"
      ]
     },
     "execution_count": 76,
     "metadata": {},
     "output_type": "execute_result"
    }
   ],
   "source": [
    "#SVR\n",
    "from sklearn.svm import SVR\n",
    "model2=SVR()\n",
    "model2.fit(X_train,y_train)"
   ]
  },
  {
   "cell_type": "code",
   "execution_count": 77,
   "metadata": {
    "scrolled": true
   },
   "outputs": [
    {
     "data": {
      "text/plain": [
       "0.16035703977864357"
      ]
     },
     "execution_count": 77,
     "metadata": {},
     "output_type": "execute_result"
    }
   ],
   "source": [
    "model2.score(X_train,y_train)"
   ]
  },
  {
   "cell_type": "code",
   "execution_count": 78,
   "metadata": {
    "scrolled": true
   },
   "outputs": [
    {
     "data": {
      "text/plain": [
       "0.1583939096025001"
      ]
     },
     "execution_count": 78,
     "metadata": {},
     "output_type": "execute_result"
    }
   ],
   "source": [
    "model2.score(X_test,y_test)"
   ]
  },
  {
   "cell_type": "code",
   "execution_count": 81,
   "metadata": {},
   "outputs": [
    {
     "data": {
      "text/plain": [
       "862.7607079705888"
      ]
     },
     "execution_count": 81,
     "metadata": {},
     "output_type": "execute_result"
    }
   ],
   "source": [
    "#훈련 RMSE(SVR 모델)\n",
    "RMSE = mean_squared_error(y_train, model2.predict(X_train))**0.5\n",
    "RMSE"
   ]
  },
  {
   "cell_type": "code",
   "execution_count": 80,
   "metadata": {},
   "outputs": [
    {
     "data": {
      "text/plain": [
       "873.9999019435428"
      ]
     },
     "execution_count": 80,
     "metadata": {},
     "output_type": "execute_result"
    }
   ],
   "source": [
    "#테스트 RMSE(SVR 모델)\n",
    "RMSE = mean_squared_error(y_test, model2.predict(X_test))**0.5\n",
    "RMSE"
   ]
  },
  {
   "cell_type": "code",
   "execution_count": 89,
   "metadata": {
    "scrolled": true
   },
   "outputs": [],
   "source": [
    "import pickle\n",
    "\n",
    "# 파일명\n",
    "filename = 'xgb_model_complete.model'\n",
    "\n",
    "# 모델(XGB Regressor) 저장\n",
    "pickle.dump(model1, open(filename, 'wb'))"
   ]
  }
 ],
 "metadata": {
  "kernelspec": {
   "display_name": "Python 3",
   "language": "python",
   "name": "python3"
  },
  "language_info": {
   "codemirror_mode": {
    "name": "ipython",
    "version": 3
   },
   "file_extension": ".py",
   "mimetype": "text/x-python",
   "name": "python",
   "nbconvert_exporter": "python",
   "pygments_lexer": "ipython3",
   "version": "3.8.5"
  }
 },
 "nbformat": 4,
 "nbformat_minor": 4
}
